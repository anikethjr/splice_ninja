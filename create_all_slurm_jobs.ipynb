{
 "cells": [
  {
   "cell_type": "code",
   "execution_count": null,
   "id": "f05a02d1-038f-44fd-ad24-3537d6abd061",
   "metadata": {},
   "outputs": [],
   "source": [
    "import os\n",
    "import json\n",
    "import numpy as np\n",
    "import pandas as pd"
   ]
  },
  {
   "cell_type": "code",
   "execution_count": null,
   "id": "770b0050-fb9b-47c0-bbd6-fc569f3e73ee",
   "metadata": {},
   "outputs": [],
   "source": [
    "all_main_run_names = {\n",
    "    \"EX_MSELoss\": \"configs/config_EX_MSELoss_chr_split.json\",\n",
    "    \"EX_RankingAndMSELoss\": \"configs/config_EX_RankingAndMSELoss_chr_split.json\",\n",
    "    \"EX_BiasedMSELoss\": \"configs/config_EX_BiasedMSELoss_chr_split.json\",    \n",
    "    \"EX_BiasedMSELossBasedOnEventStd\": \"configs/config_EX_BiasedMSELossBasedOnEventStd_chr_split.json\",\n",
    "    \"EX_BiasedMSELossBasedOnNumSamplesEventObserved\": \"configs/config_EX_BiasedMSELossBasedOnNumSamplesEventObserved_chr_split.json\",\n",
    "    \n",
    "    \"EX_MSELoss_no_gene_expression\": \"configs/config_EX_MSELoss_no_gene_expression_chr_split.json\",\n",
    "    \"EX_MSELoss_no_splicing_factor_expression\": \"configs/config_EX_MSELoss_no_splicing_factor_expression_chr_split.json\",\n",
    "    \"EX_MSELoss_no_splicing_factor_expression+no_gene_expression\": \"configs/config_EX_MSELoss_no_splicing_factor_expression+no_gene_expression_chr_split.json\",\n",
    "\n",
    "    \"EX_MSELoss_predict_mean_std_psi_and_delta\": \"configs/config_EX_MSELoss_predict_mean_std_psi_and_delta_chr_split.json\",\n",
    "    \"EX_BiasedMSELossBasedOnEventStd_predict_mean_std_psi_and_delta\": \"configs/config_EX_BiasedMSELossBasedOnEventStd_predict_mean_std_psi_and_delta_chr_split.json\",\n",
    "\n",
    "    \"EX_BCEWithLogitsLoss\": \"configs/config_EX_BCEWithLogitsLoss_chr_split.json\",\n",
    "    \"EX_RankingAndBCEWithLogitsLoss\": \"configs/config_EX_RankingAndBCEWithLogitsLoss_chr_split.json\",\n",
    "    \"EX_BiasedBCEWithLogitsLossBasedOnEventStd\": \"configs/config_EX_BiasedBCEWithLogitsLossBasedOnEventStd_chr_split.json\",\n",
    "\n",
    "    \"EX_BCEWithLogitsLoss_8_events_per_batch_chr_split\": \"configs/config_EX_BCEWithLogitsLoss_8_events_per_batch_chr_split.json\",\n",
    "    \"EX_RankingAndBCEWithLogitsLoss_8_events_per_batch_chr_split\": \"configs/config_EX_RankingAndBCEWithLogitsLoss_8_events_per_batch_chr_split.json\",\n",
    "    \"EX_RankingAndBCEWithLogitsLoss_8_events_per_batch_chr_split_lr=1e-4_wd=1e-4\": \"configs/config_EX_RankingAndBCEWithLogitsLoss_8_events_per_batch_chr_split_lr=1e-4_wd=1e-4.json\",\n",
    "    \"EX_RankingAndBCEWithLogitsLoss_8_events_per_batch_no_gene_expression_chr_split_lr=1e-4_wd=1e-4\": \"configs/config_EX_RankingAndBCEWithLogitsLoss_8_events_per_batch_no_gene_expression_chr_split_lr=1e-4_wd=1e-4.json\",\n",
    "}"
   ]
  },
  {
   "cell_type": "code",
   "execution_count": null,
   "id": "4cb4333f-6e26-48a8-a3c1-8bd30c6cae94",
   "metadata": {},
   "outputs": [],
   "source": [
    "slurm_template = \"slurm_template.sh\"\n",
    "temp_script_path = \"temp_slurm_template.sh\"\n",
    "\n",
    "main_cmd = \"NCCL_P2P_DISABLE=1 python train_psi_predictor.py --config {config_path} --resume_from_checkpoint\"\n",
    "test_cmd = \"NCCL_P2P_DISABLE=1 python test_psi_predictor.py --config {config_path} --split_name test --proceed_even_if_training_incomplete --create_best_ckpt_copy --overwrite_predictions\""
   ]
  },
  {
   "cell_type": "code",
   "execution_count": null,
   "id": "dfa5e795-5757-47b8-aa3b-69e45419e47d",
   "metadata": {},
   "outputs": [],
   "source": [
    "# MAIN TRAIN RUNS\n",
    "for run in all_main_run_names:\n",
    "    config_path = all_main_run_names[run]\n",
    "    cmd = main_cmd.replace(\"{config_path}\", config_path)\n",
    "    print(cmd)\n",
    "\n",
    "    temp_script = open(temp_script_path, \"w+\")\n",
    "    for line in open(slurm_template, \"r\").readlines():\n",
    "        temp_script.write(line)\n",
    "    temp_script.write(\"\\n\")\n",
    "\n",
    "    temp_script.write(cmd)\n",
    "    temp_script.write(\"\\n\")\n",
    "\n",
    "    temp_script.close()\n",
    "    os.system(f\"sbatch --requeue {temp_script_path}\")"
   ]
  },
  {
   "cell_type": "code",
   "execution_count": null,
   "id": "154a6a24-cc0b-4c45-acb7-3285f5eb3c7d",
   "metadata": {},
   "outputs": [],
   "source": [
    "# MAIN EVAL RUNS\n",
    "for run in all_main_run_names:\n",
    "    config_path = all_main_run_names[run]\n",
    "    cmd = test_cmd.replace(\"{config_path}\", config_path)\n",
    "    print(cmd)\n",
    "\n",
    "    temp_script = open(temp_script_path, \"w+\")\n",
    "    for line in open(slurm_template, \"r\").readlines():\n",
    "        temp_script.write(line)\n",
    "    temp_script.write(\"\\n\")\n",
    "\n",
    "    temp_script.write(cmd)\n",
    "    temp_script.write(\"\\n\")\n",
    "\n",
    "    temp_script.close()\n",
    "    os.system(f\"sbatch --requeue {temp_script_path}\")"
   ]
  },
  {
   "cell_type": "code",
   "execution_count": null,
   "id": "aba9ffdf-2af4-42d6-b674-30c56720c5e1",
   "metadata": {},
   "outputs": [],
   "source": [
    "all_samples = [\"ENSG00000003756\", \"ENSG00000004487\", \"ENSG00000004534\", \"ENSG00000005100\", \"ENSG00000009954\", \"ENSG00000010244\", \"ENSG00000011304\", \"ENSG00000013441\", \"ENSG00000013573\", \"ENSG00000015479\", \"ENSG00000018610\", \"ENSG00000021776\", \"ENSG00000039123\", \"ENSG00000044574\", \"ENSG00000051596\", \"ENSG00000054118\", \"ENSG00000060138\", \"ENSG00000060339\", \"ENSG00000060688\", \"ENSG00000063244\", \"ENSG00000065526\", \"ENSG00000065978\", \"ENSG00000066044\", \"ENSG00000067596\", \"ENSG00000068024\", \"ENSG00000070756\", \"ENSG00000070761\", \"ENSG00000071859\", \"ENSG00000074266\", \"ENSG00000076924\", \"ENSG00000077312\", \"ENSG00000078725\", \"ENSG00000079134\", \"ENSG00000080503\", \"ENSG00000083520\", \"ENSG00000083896\", \"ENSG00000084072\", \"ENSG00000084463\", \"ENSG00000085872\", \"ENSG00000087365\", \"ENSG00000089280\", \"ENSG00000089737\", \"ENSG00000089876\", \"ENSG00000090470\", \"ENSG00000091542\", \"ENSG00000092199\", \"ENSG00000094631\", \"ENSG00000096063\", \"ENSG00000096401\", \"ENSG00000096717\", \"ENSG00000096746\", \"ENSG00000099381\", \"ENSG00000099622\", \"ENSG00000099783\", \"ENSG00000099995\", \"ENSG00000100023\", \"ENSG00000100028\", \"ENSG00000100056\", \"ENSG00000100109\", \"ENSG00000100138\", \"ENSG00000100201\", \"ENSG00000100296\", \"ENSG00000100319\", \"ENSG00000100320\", \"ENSG00000100393\", \"ENSG00000100462\", \"ENSG00000100603\", \"ENSG00000100650\", \"ENSG00000100697\", \"ENSG00000100784\", \"ENSG00000100813\", \"ENSG00000100836\", \"ENSG00000101161\", \"ENSG00000101343\", \"ENSG00000101452\", \"ENSG00000101945\", \"ENSG00000102103\", \"ENSG00000102241\", \"ENSG00000102974\", \"ENSG00000103067\", \"ENSG00000104413\", \"ENSG00000104824\", \"ENSG00000104852\", \"ENSG00000104897\", \"ENSG00000105058\", \"ENSG00000105323\", \"ENSG00000105617\", \"ENSG00000105618\", \"ENSG00000106245\", \"ENSG00000106462\", \"ENSG00000107164\", \"ENSG00000108469\", \"ENSG00000108654\", \"ENSG00000108773\", \"ENSG00000108848\", \"ENSG00000108883\", \"ENSG00000109536\", \"ENSG00000109606\", \"ENSG00000109971\", \"ENSG00000110107\", \"ENSG00000111605\", \"ENSG00000111752\", \"ENSG00000111786\", \"ENSG00000112081\", \"ENSG00000112739\", \"ENSG00000113141\", \"ENSG00000113240\", \"ENSG00000113593\", \"ENSG00000113649\", \"ENSG00000114166\", \"ENSG00000114503\", \"ENSG00000115241\", \"ENSG00000115524\", \"ENSG00000115875\", \"ENSG00000116001\", \"ENSG00000116350\", \"ENSG00000116478\", \"ENSG00000116560\", \"ENSG00000116752\", \"ENSG00000116754\", \"ENSG00000117360\", \"ENSG00000117614\", \"ENSG00000119707\", \"ENSG00000119953\", \"ENSG00000120688\", \"ENSG00000121774\", \"ENSG00000122565\", \"ENSG00000122566\", \"ENSG00000122692\", \"ENSG00000123144\", \"ENSG00000123154\", \"ENSG00000123908\", \"ENSG00000124193\", \"ENSG00000124380\", \"ENSG00000124562\", \"ENSG00000124795\", \"ENSG00000125485\", \"ENSG00000125676\", \"ENSG00000125743\", \"ENSG00000125835\", \"ENSG00000125870\", \"ENSG00000125944\", \"ENSG00000125970\", \"ENSG00000126457\", \"ENSG00000126698\", \"ENSG00000126945\", \"ENSG00000127616\", \"ENSG00000127663\", \"ENSG00000129351\", \"ENSG00000129691\", \"ENSG00000130332\", \"ENSG00000130520\", \"ENSG00000130816\", \"ENSG00000131051\", \"ENSG00000131652\", \"ENSG00000131876\", \"ENSG00000132153\", \"ENSG00000132792\", \"ENSG00000133226\", \"ENSG00000134046\", \"ENSG00000134453\", \"ENSG00000134597\", \"ENSG00000134686\", \"ENSG00000135250\", \"ENSG00000135316\", \"ENSG00000135486\", \"ENSG00000135829\", \"ENSG00000136231\", \"ENSG00000136450\", \"ENSG00000136527\", \"ENSG00000136819\", \"ENSG00000136875\", \"ENSG00000136937\", \"ENSG00000137309\", \"ENSG00000137656\", \"ENSG00000138231\", \"ENSG00000138336\", \"ENSG00000138398\", \"ENSG00000138668\", \"ENSG00000139168\", \"ENSG00000139343\", \"ENSG00000139352\", \"ENSG00000140259\", \"ENSG00000140718\", \"ENSG00000140829\", \"ENSG00000141543\", \"ENSG00000141759\", \"ENSG00000141867\", \"ENSG00000142453\", \"ENSG00000142546\", \"ENSG00000143368\", \"ENSG00000143621\", \"ENSG00000143889\", \"ENSG00000143977\", \"ENSG00000144028\", \"ENSG00000145388\", \"ENSG00000145833\", \"ENSG00000145945\", \"ENSG00000146457\", \"ENSG00000147140\", \"ENSG00000150316\", \"ENSG00000151657\", \"ENSG00000151923\", \"ENSG00000152795\", \"ENSG00000153015\", \"ENSG00000153187\", \"ENSG00000153922\", \"ENSG00000154473\", \"ENSG00000155363\", \"ENSG00000156414\", \"ENSG00000160201\", \"ENSG00000160710\", \"ENSG00000160799\", \"ENSG00000161547\", \"ENSG00000161981\", \"ENSG00000162385\", \"ENSG00000162664\", \"ENSG00000162669\", \"ENSG00000162775\", \"ENSG00000163214\", \"ENSG00000163510\", \"ENSG00000163634\", \"ENSG00000163714\", \"ENSG00000163877\", \"ENSG00000164167\", \"ENSG00000164609\", \"ENSG00000164944\", \"ENSG00000165119\", \"ENSG00000165630\", \"ENSG00000165819\", \"ENSG00000165934\", \"ENSG00000166886\", \"ENSG00000166938\", \"ENSG00000167005\", \"ENSG00000167088\", \"ENSG00000167258\", \"ENSG00000167978\", \"ENSG00000168066\", \"ENSG00000168283\", \"ENSG00000168438\", \"ENSG00000168566\", \"ENSG00000168883\", \"ENSG00000169045\", \"ENSG00000169057\", \"ENSG00000169217\", \"ENSG00000169249\", \"ENSG00000169813\", \"ENSG00000170144\", \"ENSG00000170860\", \"ENSG00000171566\", \"ENSG00000171720\", \"ENSG00000171960\", \"ENSG00000172977\", \"ENSG00000174231\", \"ENSG00000174243\", \"ENSG00000175467\", \"ENSG00000176444\", \"ENSG00000176769\", \"ENSG00000177679\", \"ENSG00000177733\", \"ENSG00000178105\", \"ENSG00000178896\", \"ENSG00000179172\", \"ENSG00000179335\", \"ENSG00000179950\", \"ENSG00000181555\", \"ENSG00000182004\", \"ENSG00000182810\", \"ENSG00000182872\", \"ENSG00000182944\", \"ENSG00000183258\", \"ENSG00000183431\", \"ENSG00000183684\", \"ENSG00000184209\", \"ENSG00000185246\", \"ENSG00000185787\", \"ENSG00000185946\", \"ENSG00000189091\", \"ENSG00000196504\", \"ENSG00000196591\", \"ENSG00000197381\", \"ENSG00000197451\", \"ENSG00000198563\", \"ENSG00000198783\", \"ENSG00000204371\", \"ENSG00000204389\", \"ENSG00000204392\", \"ENSG00000204560\", \"ENSG00000205937\", \"ENSG00000212643\", \"ENSG00000214753\", \"ENSG00000214826\", \"ENSG00000215301\", \"ENSG00000240344\", \"ENSG00000240682\", \"ENSG00000265241\", \"ENSG00000270647\", \"ENSG00000278053\"]\n",
    "np.random.seed(97)\n",
    "all_samples = np.random.permutation(all_samples)\n",
    "\n",
    "train_samples = all_samples[:int(len(all_samples) * 0.7)]\n",
    "test_samples = all_samples[int(len(all_samples) * 0.7):int(len(all_samples) * 0.9)]\n",
    "val_samples = all_samples[int(len(all_samples) * 0.9):]\n",
    "\n",
    "print(len(train_samples))\n",
    "print(len(test_samples))\n",
    "print(len(val_samples))\n",
    "\n",
    "assert len(train_samples) + len(test_samples) + len(val_samples) == len(all_samples)"
   ]
  },
  {
   "cell_type": "code",
   "execution_count": null,
   "id": "e486afc9-f7d8-42e2-b63f-ae7019333942",
   "metadata": {},
   "outputs": [],
   "source": []
  }
 ],
 "metadata": {
  "kernelspec": {
   "display_name": "promoter_models_clusterfs",
   "language": "python",
   "name": "promoter_models_clusterfs"
  },
  "language_info": {
   "codemirror_mode": {
    "name": "ipython",
    "version": 3
   },
   "file_extension": ".py",
   "mimetype": "text/x-python",
   "name": "python",
   "nbconvert_exporter": "python",
   "pygments_lexer": "ipython3",
   "version": "3.11.7"
  }
 },
 "nbformat": 4,
 "nbformat_minor": 5
}
