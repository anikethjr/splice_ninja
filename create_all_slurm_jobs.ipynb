{
 "cells": [
  {
   "cell_type": "code",
   "execution_count": null,
   "id": "f05a02d1-038f-44fd-ad24-3537d6abd061",
   "metadata": {},
   "outputs": [],
   "source": [
    "import os\n",
    "import json\n",
    "import numpy as np\n",
    "import pandas as pd"
   ]
  },
  {
   "cell_type": "code",
   "execution_count": null,
   "id": "770b0050-fb9b-47c0-bbd6-fc569f3e73ee",
   "metadata": {},
   "outputs": [],
   "source": [
    "all_main_run_names = {\n",
    "    \"EX_MSELoss\": \"configs/config_MSELoss.json\",\n",
    "    \"EX_BiasedMSELoss\": \"configs/config_BiasedMSELoss.json\",\n",
    "    \n",
    "    \"EX_BiasedMSELossBasedOnEventStd\": \"configs/config_BiasedMSELossBasedOnEventStd.json\",\n",
    "    \"EX_BiasedMSELossBasedOnEventStd_no_gene_exp\": \"configs/config_BiasedMSELossBasedOnEventStd_no_gene_exp.json\",\n",
    "    \n",
    "    \"EX_BiasedMSELossBasedOnNumSamplesObserved\": \"configs/config_BiasedMSELossBasedOnNumSamplesObserved.json\",\n",
    "    \"EX_BiasedMSELossBasedOnNumSamplesObserved_no_gene_exp\": \"configs/config_BiasedMSELossBasedOnNumSamplesObserved_no_gene_exp.json\",\n",
    "    \"EX_BiasedMSELossBasedOnNumSamplesObserved_no_splicing_factor_expression\": \"configs/config_BiasedMSELossBasedOnNumSamplesObserved_no_splicing_factor_expression.json\",\n",
    "    \"EX_BiasedMSELossBasedOnNumSamplesObserved_no_splicing_factor_expression+no_gene_exp\": \"configs/config_BiasedMSELossBasedOnNumSamplesObserved_no_splicing_factor_expression+no_gene_exp.json\",\n",
    "    \n",
    "}"
   ]
  },
  {
   "cell_type": "code",
   "execution_count": null,
   "id": "4cb4333f-6e26-48a8-a3c1-8bd30c6cae94",
   "metadata": {},
   "outputs": [],
   "source": [
    "slurm_template = \"slurm_template.sh\"\n",
    "temp_script_path = \"temp_slurm_template.sh\"\n",
    "\n",
    "main_cmd = \"NCCL_P2P_DISABLE=1 python train_psi_predictor.py --config {config_path} --resume_from_checkpoint\""
   ]
  },
  {
   "cell_type": "code",
   "execution_count": null,
   "id": "dfa5e795-5757-47b8-aa3b-69e45419e47d",
   "metadata": {},
   "outputs": [],
   "source": [
    "# MAIN TRAIN RUNS\n",
    "for run in all_main_run_names:\n",
    "    config_path = all_main_run_names[run]\n",
    "    cmd = main_cmd.replace(\"{config_path}\", config_path)\n",
    "    print(cmd)\n",
    "\n",
    "    temp_script = open(temp_script_path, \"w+\")\n",
    "    for line in open(slurm_template, \"r\").readlines():\n",
    "        temp_script.write(line)\n",
    "    temp_script.write(\"\\n\")\n",
    "\n",
    "    temp_script.write(cmd)\n",
    "    temp_script.write(\"\\n\")\n",
    "\n",
    "    temp_script.close()\n",
    "    os.system(f\"sbatch --requeue {temp_script_path}\")"
   ]
  },
  {
   "cell_type": "code",
   "execution_count": null,
   "id": "be25f454-191c-485e-b5cf-57721d7ca2b0",
   "metadata": {},
   "outputs": [],
   "source": []
  }
 ],
 "metadata": {
  "kernelspec": {
   "display_name": "promoter_models_clusterfs",
   "language": "python",
   "name": "promoter_models_clusterfs"
  },
  "language_info": {
   "codemirror_mode": {
    "name": "ipython",
    "version": 3
   },
   "file_extension": ".py",
   "mimetype": "text/x-python",
   "name": "python",
   "nbconvert_exporter": "python",
   "pygments_lexer": "ipython3",
   "version": "3.11.7"
  }
 },
 "nbformat": 4,
 "nbformat_minor": 5
}
